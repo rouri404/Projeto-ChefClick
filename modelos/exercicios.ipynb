{
 "cells": [
  {
   "cell_type": "code",
   "execution_count": 25,
   "id": "b6289ffc",
   "metadata": {},
   "outputs": [],
   "source": [
    "# 1) Crie uma classe chamada `ContaBancaria` com um construtor que aceita os parâmetros titular e saldo. Inicie o atributo ativo como False por padrão.\n",
    "class ContaBancaria:\n",
    "    def __init__(self, titular, saldo):\n",
    "        self.titular = titular\n",
    "        self.saldo = saldo\n",
    "        self._ativo = False  # Atributo protegido"
   ]
  },
  {
   "cell_type": "code",
   "execution_count": 26,
   "id": "adccff99",
   "metadata": {},
   "outputs": [
    {
     "name": "stdout",
     "output_type": "stream",
     "text": [
      "<__main__.ContaBancaria object at 0x0000020A9679E900>\n",
      "<__main__.ContaBancaria object at 0x0000020A96D6C7D0>\n"
     ]
    }
   ],
   "source": [
    "# 2) Na classe ContaBancaria, adicione um método especial `__str__` que retorna uma mensagem formatada com o titular e o saldo da conta. Crie duas instâncias da classe e imprima essas instâncias.\n",
    "def __str__(self):\n",
    "    return f\"Conta de {self.titular} - Saldo: R${self.saldo}\"\n",
    "\n",
    "conta1 = ContaBancaria(\"João\", 1000)\n",
    "conta2 = ContaBancaria(\"Maria\", 500)\n",
    "\n",
    "print(conta1)\n",
    "print(conta2)"
   ]
  },
  {
   "cell_type": "code",
   "execution_count": 27,
   "id": "e885b6e6",
   "metadata": {},
   "outputs": [
    {
     "name": "stdout",
     "output_type": "stream",
     "text": [
      "Antes de ativar: Conta ativa? False\n",
      "Depois de ativar: Conta ativa? True\n"
     ]
    }
   ],
   "source": [
    "# 3) Adicione um método de classe chamado `ativar_conta` à classe `ContaBancaria` que define o atributo ativo como `True`. Crie uma instância da classe, chame o método de classe e imprima o valor de ativo.\n",
    "class ContaBancaria:\n",
    "    def __init__(self, titular, saldo):\n",
    "        self.titular = titular\n",
    "        self.saldo = saldo\n",
    "        self._ativo = False  # Atributo protegido\n",
    "\n",
    "    @classmethod\n",
    "    def ativar_conta(cls, conta):\n",
    "        conta._ativo = True\n",
    "\n",
    "    @property\n",
    "    def ativo(self):\n",
    "        return self._ativo\n",
    "\n",
    "conta3 = ContaBancaria(\"Carlos\", 200)\n",
    "print(f\"Antes de ativar: Conta ativa? {conta3.ativo}\")\n",
    "ContaBancaria.ativar_conta(conta3)\n",
    "print(f\"Depois de ativar: Conta ativa? {conta3.ativo}\")"
   ]
  },
  {
   "cell_type": "code",
   "execution_count": 28,
   "id": "fd9f2f71",
   "metadata": {},
   "outputs": [],
   "source": [
    "# 4) Refatore a classe `ContaBancaria` para utilizar a abordagem \"pythonica\" na criação de atributos. Utilize propriedades, se necessário.\n",
    "class ContaBancariaPythonica:\n",
    "    def __init__(self, titular, saldo):\n",
    "        self._titular = titular\n",
    "        self._saldo = saldo\n",
    "        self._ativo = False\n",
    "\n",
    "    @property\n",
    "    def titular(self):\n",
    "        return self._titular\n",
    "\n",
    "    @property\n",
    "    def saldo(self):\n",
    "        return self._saldo\n",
    "\n",
    "    @property\n",
    "    def ativo(self):\n",
    "        return self._ativo"
   ]
  },
  {
   "cell_type": "code",
   "execution_count": 29,
   "id": "22ea72ba",
   "metadata": {},
   "outputs": [
    {
     "name": "stdout",
     "output_type": "stream",
     "text": [
      "Titular da conta 4: Fernanda\n"
     ]
    }
   ],
   "source": [
    "# 5) Crie uma instância da classe e imprima o valor da propriedade titular.\n",
    "conta4 = ContaBancariaPythonica(\"Fernanda\", 1500)\n",
    "print(f\"Titular da conta 4: {conta4.titular}\")"
   ]
  },
  {
   "cell_type": "code",
   "execution_count": 30,
   "id": "208c0ea9",
   "metadata": {},
   "outputs": [],
   "source": [
    "# 6) Crie uma classe chamada `ClienteBanco` com um construtor que aceita 5 atributos. Instancie 3 objetos desta classe e atribua valores aos seus atributos através do método construtor.\n",
    "class ClienteBanco:\n",
    "    def __init__(self, nome, idade, endereco, cpf, profissao):\n",
    "        self.nome = nome\n",
    "        self.idade = idade\n",
    "        self.endereco = endereco\n",
    "        self.cpf = cpf\n",
    "        self.profissao = profissao\n",
    "\n",
    "cliente1 = ClienteBanco(\"Ana\", 30, \"Rua A\", \"123.456.789-01\", \"Backend\")\n",
    "cliente2 = ClienteBanco(\"Luiza\", 25, \"Rua B\", \"987.654.321-01\", \"Estudante\")\n",
    "cliente3 = ClienteBanco(\"Vinny Neves\", 40, \"Rua C\", \"111.222.333-44\", \"Frontend\")"
   ]
  },
  {
   "cell_type": "code",
   "execution_count": 31,
   "id": "4edff099",
   "metadata": {},
   "outputs": [
    {
     "name": "stdout",
     "output_type": "stream",
     "text": [
      "Conta de Ana criada com saldo inicial de R$2000\n"
     ]
    }
   ],
   "source": [
    "# 7) Crie um método de classe para a conta `ClienteBanco`.\n",
    "class ClienteBanco:\n",
    "    # ... (outros métodos e atributos)\n",
    "\n",
    "    @classmethod\n",
    "    def criar_conta(cls, titular, saldo_inicial):\n",
    "        conta = ContaBancariaPythonica(titular, saldo_inicial)\n",
    "        return conta\n",
    "\n",
    "# Exemplo de uso do método de classe\n",
    "conta_cliente1 = ClienteBanco.criar_conta(\"Ana\", 2000)\n",
    "print(f\"Conta de {conta_cliente1.titular} criada com saldo inicial de R${conta_cliente1.saldo}\")"
   ]
  }
 ],
 "metadata": {
  "kernelspec": {
   "display_name": "Python 3",
   "language": "python",
   "name": "python3"
  },
  "language_info": {
   "codemirror_mode": {
    "name": "ipython",
    "version": 3
   },
   "file_extension": ".py",
   "mimetype": "text/x-python",
   "name": "python",
   "nbconvert_exporter": "python",
   "pygments_lexer": "ipython3",
   "version": "3.13.2"
  }
 },
 "nbformat": 4,
 "nbformat_minor": 5
}
